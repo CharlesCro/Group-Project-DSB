{
 "cells": [
  {
   "cell_type": "markdown",
   "id": "4321c962-9bf5-4a54-9eae-5eb575cec8e0",
   "metadata": {},
   "source": [
    "# ![](https://ga-dash.s3.amazonaws.com/production/assets/logo-9f88ae6c9c3871690e33280fcf557f33.png) Group Project by Dolphin Sharma and Charles Crocicchia\n",
    "\n",
    "# (EDA Part 2)"
   ]
  },
  {
   "cell_type": "markdown",
   "id": "ba495d59-cb64-4689-8fa1-c1e11f3abd5b",
   "metadata": {},
   "source": [
    "---\n",
    "## Problem Statement\n",
    "\n",
    "This project aims to analyze the influence of corn and soybeans, America's \n",
    "most farmed corps, on key economic indicators in rural U.S. areas for \n",
    "approximately 15 years. By examining crop-related production and sales \n",
    "metrics this analysis seeks to identify correlations between crop production \n",
    "trends and rural economic development. We will investigate whether corn \n",
    "and soybean production data can be used to forecast changes in rural \n",
    "employment, income, and poverty levels. The goal is to assess the long-term\n",
    "economic impacts of crop productivity and sales on rural communities and \n",
    "to explore the predictive potential of corn data for future economic \n",
    "outcomes.\n",
    "\n",
    "**Goals**\n",
    "\n",
    "- *Analyze the influence of corn and soybean production on rural \n",
    "economic indicators (employment, income, poverty).*\n",
    "- *Identify correlations between corn and soybean production metrics \n",
    "(e.g., acres planted, yield, production volume, cash receipts) and rural\n",
    "economic development indicators.*\n",
    "- *Forecast economic outcomes based on corn and soybean \n",
    "production trends (can corn or soybean production be used to predict \n",
    "employment, income, and poverty levels?).*\n",
    "- *Assess the long-term impacts of corn and soybean productivity on \n",
    "rural economic outcomes.*\n",
    "---"
   ]
  },
  {
   "cell_type": "markdown",
   "id": "5dc6ef75-3737-4aeb-9325-2d091521672d",
   "metadata": {},
   "source": [
    "## Imports"
   ]
  },
  {
   "cell_type": "code",
   "execution_count": 135,
   "id": "677ece80-6b0b-473e-ae78-00b763d367dd",
   "metadata": {},
   "outputs": [],
   "source": [
    "import pandas as pd\n",
    "import os\n",
    "import matplotlib.pyplot as plt\n",
    "import seaborn as sns"
   ]
  },
  {
   "cell_type": "markdown",
   "id": "1bc45b9c-c7a9-4d9a-92e2-4051375a6aa1",
   "metadata": {},
   "source": [
    "---\n",
    "### Load Data"
   ]
  },
  {
   "cell_type": "code",
   "execution_count": 137,
   "id": "b9f1168c-5410-4ca3-90f0-8834e6047fc3",
   "metadata": {},
   "outputs": [],
   "source": [
    "# Function to read datasets from a directory\n",
    "def read_datasets_from_directory(directory_path):\n",
    "    if 'corn_data' in directory_path:\n",
    "        prefix = 'corn_'\n",
    "    elif 'soybean_data' in directory_path:\n",
    "        prefix = 'soybean_'\n",
    "    else:\n",
    "        prefix = ''\n",
    "\n",
    "    for filename in os.listdir(directory_path):\n",
    "        if filename.endswith(\".csv\"):\n",
    "            file_path = os.path.join(directory_path, filename)\n",
    "            df = pd.read_csv(file_path)\n",
    "            dataset_name = os.path.splitext(filename)[0]\n",
    "            globals()[prefix + dataset_name] = df"
   ]
  },
  {
   "cell_type": "code",
   "execution_count": 138,
   "id": "b7b1713a-67c5-4454-a4a4-e5c550e5e6d4",
   "metadata": {},
   "outputs": [],
   "source": [
    "# Define relative paths\n",
    "path_to_corn_data = r'../data/corn_data/'\n",
    "path_to_soybean_data = r'../data/soybean_data/'\n",
    "path_to_economic_data = r'../data/economic_data/'"
   ]
  },
  {
   "cell_type": "code",
   "execution_count": 139,
   "id": "cf0be5df-4a68-4ca0-b06e-7b169ffd7ccc",
   "metadata": {},
   "outputs": [],
   "source": [
    "# Load the datasets\n",
    "read_datasets_from_directory(path_to_corn_data)\n",
    "read_datasets_from_directory(path_to_soybean_data)\n",
    "read_datasets_from_directory(path_to_economic_data)"
   ]
  },
  {
   "cell_type": "code",
   "execution_count": 140,
   "id": "878a31f1-18a0-4056-aa21-0bc21843afe7",
   "metadata": {
    "scrolled": true
   },
   "outputs": [
    {
     "name": "stdout",
     "output_type": "stream",
     "text": [
      "Variable                         Type         Data/Info\n",
      "-------------------------------------------------------\n",
      "corn_acres_planted               DataFrame          Year          State<...>\\n[1161 rows x 3 columns]\n",
      "corn_cash_receipts               DataFrame                 State       <...>    59806.0     60223.0  \n",
      "corn_correlation_results         DataFrame                           co<...>166           -0.003166  \n",
      "corn_price_received              DataFrame          Year          State<...>\\n[1002 rows x 3 columns]\n",
      "corn_production_bushels          DataFrame          Year          State<...>\\n[2544 rows x 3 columns]\n",
      "corn_production_dollars          DataFrame         Year          State <...>n\\n[984 rows x 3 columns]\n",
      "corn_yield_bushels               DataFrame          Year       State  V<...>\\n[4164 rows x 3 columns]\n",
      "crop_df                          DataFrame         Year          State <...>n\\n[738 rows x 3 columns]\n",
      "economic_combined                DataFrame          Year  employment_ru<...>\\n[1150 rows x 4 columns]\n",
      "employment_national              DataFrame        Year  employment_rura<...>2  2022         485311.16\n",
      "employment_rural                 DataFrame               GeoName     20<...>n\\n[50 rows x 24 columns]\n",
      "employment_rural_reshaped        DataFrame                GeoName  Year<...>\\n[1150 rows x 3 columns]\n",
      "personal_income_national         DataFrame        Year  personal_income<...>22            46280529.10\n",
      "personal_income_rural            DataFrame               GeoName      2<...>n\\n[50 rows x 24 columns]\n",
      "personal_income_rural_reshaped   DataFrame                GeoName  Year<...>\\n[1150 rows x 3 columns]\n",
      "poverty_levels                   DataFrame          Year          State<...>\\n[1200 rows x 5 columns]\n",
      "poverty_levels_reshaped          DataFrame          Year  poverty_level<...>\\n[1200 rows x 2 columns]\n",
      "soybean_acres_planted            DataFrame         Year          State <...>n\\n[742 rows x 3 columns]\n",
      "soybean_cash_receipts            DataFrame                 State       <...> NaN  \\n49          NaN  \n",
      "soybean_correlation_results      DataFrame                           so<...>              -0.003166  \n",
      "soybean_price_received           DataFrame         Year          State <...>n\\n[740 rows x 3 columns]\n",
      "soybean_production_bushels       DataFrame         Year          State <...>n\\n[738 rows x 3 columns]\n",
      "soybean_production_dollars       DataFrame         Year          State <...>n\\n[737 rows x 3 columns]\n",
      "soybean_yield_bushels            DataFrame         Year          State <...>n\\n[738 rows x 3 columns]\n"
     ]
    }
   ],
   "source": [
    "# Display DataFrames collected\n",
    "%whos DataFrame"
   ]
  },
  {
   "cell_type": "markdown",
   "id": "470f712e-e724-4931-b673-b322b967d238",
   "metadata": {},
   "source": [
    "## Correlations"
   ]
  },
  {
   "cell_type": "code",
   "execution_count": 142,
   "id": "75fe5035-c8bc-4a11-970b-05611594668d",
   "metadata": {},
   "outputs": [],
   "source": [
    "# Step 1: Reshape and merge economic data\n",
    "employment_rural_reshaped = employment_rural.melt(id_vars=['GeoName'], var_name='Year', value_name='employment_rural')\n",
    "personal_income_rural_reshaped = personal_income_rural.melt(id_vars=['GeoName'], var_name='Year', value_name='personal_income_rural')\n",
    "\n",
    "employment_rural_reshaped['Year'] = pd.to_numeric(employment_rural_reshaped['Year'])\n",
    "personal_income_rural_reshaped['Year'] = pd.to_numeric(personal_income_rural_reshaped['Year'])\n",
    "\n",
    "employment_national = employment_rural_reshaped.groupby('Year')['employment_rural'].mean().reset_index()\n",
    "personal_income_national = personal_income_rural_reshaped.groupby('Year')['personal_income_rural'].mean().reset_index()\n",
    "\n",
    "poverty_levels_reshaped = poverty_levels[['Year', 'Percent in poverty']].rename(columns={'Percent in poverty': 'poverty_levels'})\n",
    "\n",
    "economic_combined = pd.merge(employment_national, personal_income_national, on='Year', how='inner')\n",
    "economic_combined = pd.merge(economic_combined, poverty_levels_reshaped, on='Year', how='inner')"
   ]
  },
  {
   "cell_type": "code",
   "execution_count": 143,
   "id": "ec577333-576e-438b-b65a-396433d4531f",
   "metadata": {},
   "outputs": [
    {
     "name": "stdout",
     "output_type": "stream",
     "text": [
      "Economic Data (combined):\n",
      "    Year  employment_rural  personal_income_rural  poverty_levels\n",
      "0  2000         459487.52            19960790.26            13.3\n",
      "1  2000         459487.52            19960790.26             7.6\n",
      "2  2000         459487.52            19960790.26            11.7\n",
      "3  2000         459487.52            19960790.26            16.5\n",
      "4  2000         459487.52            19960790.26            12.7\n"
     ]
    }
   ],
   "source": [
    "# Step 2: Print the economic_combined dataframe to verify it\n",
    "print(\"Economic Data (combined):\\n\", economic_combined.head())"
   ]
  },
  {
   "cell_type": "code",
   "execution_count": 144,
   "id": "6f41a1a5-31a8-40e6-b607-cf13ef843d08",
   "metadata": {},
   "outputs": [
    {
     "name": "stdout",
     "output_type": "stream",
     "text": [
      "Columns in corn_acres_planted: Index(['Year', 'State', 'Value'], dtype='object')\n",
      "Columns in corn_cash_receipts: Index(['State', '2008', '2009', '2010', '2011', '2012', '2013', '2014', '2015',\n",
      "       '2016', '2017', '2018', '2019', '2020', '2021', '2022', '2023'],\n",
      "      dtype='object')\n",
      "Columns in corn_price_received: Index(['Year', 'State', 'Value'], dtype='object')\n",
      "Columns in corn_production_bushels: Index(['Year', 'State', 'Value'], dtype='object')\n",
      "Columns in corn_production_dollars: Index(['Year', 'State', 'Value'], dtype='object')\n",
      "Columns in corn_yield_bushels: Index(['Year', 'State', 'Value'], dtype='object')\n",
      "Columns in soybean_acres_planted: Index(['Year', 'State', 'Value'], dtype='object')\n",
      "Columns in soybean_cash_receipts: Index(['State', '2008', '2009', '2010', '2011', '2012', '2013', '2014', '2015',\n",
      "       '2016', '2017', '2018', '2019', '2020', '2021', '2022', '2023',\n",
      "       'Unnamed: 17', 'Unnamed: 18'],\n",
      "      dtype='object')\n",
      "Columns in soybean_price_received: Index(['Year', 'State', 'Value'], dtype='object')\n",
      "Columns in soybean_production_bushels: Index(['Year', 'State', 'Value'], dtype='object')\n",
      "Columns in soybean_production_dollars: Index(['Year', 'State', 'Value'], dtype='object')\n",
      "Columns in soybean_yield_bushels: Index(['Year', 'State', 'Value'], dtype='object')\n"
     ]
    }
   ],
   "source": [
    "# Step 3: Print column names for debugging\n",
    "for col in ['corn_acres_planted', 'corn_cash_receipts', 'corn_price_received', \n",
    "            'corn_production_bushels', 'corn_production_dollars', 'corn_yield_bushels',\n",
    "            'soybean_acres_planted', 'soybean_cash_receipts', 'soybean_price_received',\n",
    "            'soybean_production_bushels', 'soybean_production_dollars', 'soybean_yield_bushels']:\n",
    "    print(f\"Columns in {col}: {globals()[col].columns}\")"
   ]
  },
  {
   "cell_type": "code",
   "execution_count": 145,
   "id": "436e205d-83fb-447e-8b2e-62adb5f05047",
   "metadata": {},
   "outputs": [
    {
     "name": "stdout",
     "output_type": "stream",
     "text": [
      "Renaming columns in corn_cash_receipts\n",
      "Renaming columns in soybean_cash_receipts\n"
     ]
    }
   ],
   "source": [
    "# Step 4: Adjust column names if necessary\n",
    "for col in ['corn_acres_planted', 'corn_cash_receipts', 'corn_price_received', \n",
    "            'corn_production_bushels', 'corn_production_dollars', 'corn_yield_bushels',\n",
    "            'soybean_acres_planted', 'soybean_cash_receipts', 'soybean_price_received',\n",
    "            'soybean_production_bushels', 'soybean_production_dollars', 'soybean_yield_bushels']:\n",
    "    crop_df = globals()[col]\n",
    "    \n",
    "    # Rename columns if 'Year' and 'Value' are not present\n",
    "    if 'Year' not in crop_df.columns or 'Value' not in crop_df.columns:\n",
    "        print(f\"Renaming columns in {col}\")\n",
    "        # Replace with actual column names if needed\n",
    "        crop_df.rename(columns={'ActualYearColumn': 'Year', 'ActualValueColumn': 'Value'}, inplace=True)"
   ]
  },
  {
   "cell_type": "code",
   "execution_count": 146,
   "id": "2ee5ae00-6fa5-4df8-97a1-1d867b5ae7b5",
   "metadata": {},
   "outputs": [],
   "source": [
    "# Step 5: Function to calculate correlations\n",
    "# Function to calculate correlations\n",
    "def calculate_correlations(crop_data_columns):\n",
    "    correlation_results = {}\n",
    "    \n",
    "    for col in crop_data_columns:\n",
    "        # Debugging: print the columns of crop_df before proceeding\n",
    "        print(f\"\\nChecking crop_df columns for {col}:\")\n",
    "        print(crop_df.columns)  # Ensure 'Year' and 'Value' are present\n",
    "        \n",
    "        # Debugging: print the first few rows of crop_df\n",
    "        print(f\"\\nFirst few rows of crop_df ({col}):\")\n",
    "        print(crop_df.head())\n",
    "\n",
    "        # Debugging: print the columns of economic_combined before merging\n",
    "        print(\"\\nColumns in economic_combined before merging:\")\n",
    "        print(economic_combined.columns)\n",
    "        \n",
    "        # Proceed with the correlation\n",
    "        combined_df = pd.merge(crop_df[['Year', 'Value']], economic_combined, on='Year', how='inner')\n",
    "\n",
    "        # Debugging: print the first few rows after merging\n",
    "        print(\"\\nFirst few rows of combined_df after merging:\")\n",
    "        print(combined_df.head())\n",
    "\n",
    "        # Calculate correlation\n",
    "        correlation_results[col] = combined_df.corr().loc['Value', ['employment_rural', 'personal_income_rural', 'poverty_levels']]\n",
    "    \n",
    "    return pd.DataFrame(correlation_results)"
   ]
  },
  {
   "cell_type": "code",
   "execution_count": 147,
   "id": "d0267c9d-c002-4beb-b90a-7dc2ff9b45d4",
   "metadata": {},
   "outputs": [],
   "source": [
    "# Define corn and soybean data columns\n",
    "corn_data_columns = ['corn_acres_planted', 'corn_cash_receipts', 'corn_price_received', \n",
    "                     'corn_production_bushels', 'corn_production_dollars', 'corn_yield_bushels']\n",
    "\n",
    "soybean_data_columns = ['soybean_acres_planted', 'soybean_cash_receipts', 'soybean_price_received',\n",
    "                        'soybean_production_bushels', 'soybean_production_dollars', 'soybean_yield_bushels']"
   ]
  },
  {
   "cell_type": "code",
   "execution_count": 148,
   "id": "d6017bd0-44c4-4e36-85b9-af936991c6e6",
   "metadata": {},
   "outputs": [
    {
     "name": "stdout",
     "output_type": "stream",
     "text": [
      "Before merge - crop_df columns: Index(['Year', 'State', 'Value'], dtype='object')\n",
      "Before merge - economic_combined columns: Index(['Year', 'employment_rural', 'personal_income_rural', 'poverty_levels'], dtype='object')\n"
     ]
    }
   ],
   "source": [
    "print(\"Before merge - crop_df columns:\", crop_df.columns)\n",
    "print(\"Before merge - economic_combined columns:\", economic_combined.columns)"
   ]
  },
  {
   "cell_type": "code",
   "execution_count": 149,
   "id": "8e76663f-06ab-4115-8399-31c76e46f0cf",
   "metadata": {
    "scrolled": true
   },
   "outputs": [
    {
     "name": "stdout",
     "output_type": "stream",
     "text": [
      "\n",
      "Checking crop_df columns for corn_acres_planted:\n",
      "Index(['Year', 'State', 'Value'], dtype='object')\n",
      "\n",
      "First few rows of crop_df (corn_acres_planted):\n",
      "   Year     State  Value\n",
      "0  2023   ALABAMA   43.0\n",
      "1  2023  ARKANSAS   54.0\n",
      "2  2023  DELAWARE   46.0\n",
      "3  2023   GEORGIA   43.0\n",
      "4  2023  ILLINOIS   63.0\n",
      "\n",
      "Columns in economic_combined before merging:\n",
      "Index(['Year', 'employment_rural', 'personal_income_rural', 'poverty_levels'], dtype='object')\n",
      "\n",
      "First few rows of combined_df after merging:\n",
      "   Year  Value  employment_rural  personal_income_rural  poverty_levels\n",
      "0  2022   41.0         485311.16             46280529.1            13.6\n",
      "1  2022   41.0         485311.16             46280529.1             9.6\n",
      "2  2022   41.0         485311.16             46280529.1            12.7\n",
      "3  2022   41.0         485311.16             46280529.1            16.6\n",
      "4  2022   41.0         485311.16             46280529.1            11.2\n",
      "\n",
      "Checking crop_df columns for corn_cash_receipts:\n",
      "Index(['Year', 'State', 'Value'], dtype='object')\n",
      "\n",
      "First few rows of crop_df (corn_cash_receipts):\n",
      "   Year     State  Value\n",
      "0  2023   ALABAMA   43.0\n",
      "1  2023  ARKANSAS   54.0\n",
      "2  2023  DELAWARE   46.0\n",
      "3  2023   GEORGIA   43.0\n",
      "4  2023  ILLINOIS   63.0\n",
      "\n",
      "Columns in economic_combined before merging:\n",
      "Index(['Year', 'employment_rural', 'personal_income_rural', 'poverty_levels'], dtype='object')\n",
      "\n",
      "First few rows of combined_df after merging:\n",
      "   Year  Value  employment_rural  personal_income_rural  poverty_levels\n",
      "0  2022   41.0         485311.16             46280529.1            13.6\n",
      "1  2022   41.0         485311.16             46280529.1             9.6\n",
      "2  2022   41.0         485311.16             46280529.1            12.7\n",
      "3  2022   41.0         485311.16             46280529.1            16.6\n",
      "4  2022   41.0         485311.16             46280529.1            11.2\n",
      "\n",
      "Checking crop_df columns for corn_price_received:\n",
      "Index(['Year', 'State', 'Value'], dtype='object')\n",
      "\n",
      "First few rows of crop_df (corn_price_received):\n",
      "   Year     State  Value\n",
      "0  2023   ALABAMA   43.0\n",
      "1  2023  ARKANSAS   54.0\n",
      "2  2023  DELAWARE   46.0\n",
      "3  2023   GEORGIA   43.0\n",
      "4  2023  ILLINOIS   63.0\n",
      "\n",
      "Columns in economic_combined before merging:\n",
      "Index(['Year', 'employment_rural', 'personal_income_rural', 'poverty_levels'], dtype='object')\n",
      "\n",
      "First few rows of combined_df after merging:\n",
      "   Year  Value  employment_rural  personal_income_rural  poverty_levels\n",
      "0  2022   41.0         485311.16             46280529.1            13.6\n",
      "1  2022   41.0         485311.16             46280529.1             9.6\n",
      "2  2022   41.0         485311.16             46280529.1            12.7\n",
      "3  2022   41.0         485311.16             46280529.1            16.6\n",
      "4  2022   41.0         485311.16             46280529.1            11.2\n",
      "\n",
      "Checking crop_df columns for corn_production_bushels:\n",
      "Index(['Year', 'State', 'Value'], dtype='object')\n",
      "\n",
      "First few rows of crop_df (corn_production_bushels):\n",
      "   Year     State  Value\n",
      "0  2023   ALABAMA   43.0\n",
      "1  2023  ARKANSAS   54.0\n",
      "2  2023  DELAWARE   46.0\n",
      "3  2023   GEORGIA   43.0\n",
      "4  2023  ILLINOIS   63.0\n",
      "\n",
      "Columns in economic_combined before merging:\n",
      "Index(['Year', 'employment_rural', 'personal_income_rural', 'poverty_levels'], dtype='object')\n",
      "\n",
      "First few rows of combined_df after merging:\n",
      "   Year  Value  employment_rural  personal_income_rural  poverty_levels\n",
      "0  2022   41.0         485311.16             46280529.1            13.6\n",
      "1  2022   41.0         485311.16             46280529.1             9.6\n",
      "2  2022   41.0         485311.16             46280529.1            12.7\n",
      "3  2022   41.0         485311.16             46280529.1            16.6\n",
      "4  2022   41.0         485311.16             46280529.1            11.2\n",
      "\n",
      "Checking crop_df columns for corn_production_dollars:\n",
      "Index(['Year', 'State', 'Value'], dtype='object')\n",
      "\n",
      "First few rows of crop_df (corn_production_dollars):\n",
      "   Year     State  Value\n",
      "0  2023   ALABAMA   43.0\n",
      "1  2023  ARKANSAS   54.0\n",
      "2  2023  DELAWARE   46.0\n",
      "3  2023   GEORGIA   43.0\n",
      "4  2023  ILLINOIS   63.0\n",
      "\n",
      "Columns in economic_combined before merging:\n",
      "Index(['Year', 'employment_rural', 'personal_income_rural', 'poverty_levels'], dtype='object')\n",
      "\n",
      "First few rows of combined_df after merging:\n",
      "   Year  Value  employment_rural  personal_income_rural  poverty_levels\n",
      "0  2022   41.0         485311.16             46280529.1            13.6\n",
      "1  2022   41.0         485311.16             46280529.1             9.6\n",
      "2  2022   41.0         485311.16             46280529.1            12.7\n",
      "3  2022   41.0         485311.16             46280529.1            16.6\n",
      "4  2022   41.0         485311.16             46280529.1            11.2\n",
      "\n",
      "Checking crop_df columns for corn_yield_bushels:\n",
      "Index(['Year', 'State', 'Value'], dtype='object')\n",
      "\n",
      "First few rows of crop_df (corn_yield_bushels):\n",
      "   Year     State  Value\n",
      "0  2023   ALABAMA   43.0\n",
      "1  2023  ARKANSAS   54.0\n",
      "2  2023  DELAWARE   46.0\n",
      "3  2023   GEORGIA   43.0\n",
      "4  2023  ILLINOIS   63.0\n",
      "\n",
      "Columns in economic_combined before merging:\n",
      "Index(['Year', 'employment_rural', 'personal_income_rural', 'poverty_levels'], dtype='object')\n",
      "\n",
      "First few rows of combined_df after merging:\n",
      "   Year  Value  employment_rural  personal_income_rural  poverty_levels\n",
      "0  2022   41.0         485311.16             46280529.1            13.6\n",
      "1  2022   41.0         485311.16             46280529.1             9.6\n",
      "2  2022   41.0         485311.16             46280529.1            12.7\n",
      "3  2022   41.0         485311.16             46280529.1            16.6\n",
      "4  2022   41.0         485311.16             46280529.1            11.2\n",
      "\n",
      "Checking crop_df columns for soybean_acres_planted:\n",
      "Index(['Year', 'State', 'Value'], dtype='object')\n",
      "\n",
      "First few rows of crop_df (soybean_acres_planted):\n",
      "   Year     State  Value\n",
      "0  2023   ALABAMA   43.0\n",
      "1  2023  ARKANSAS   54.0\n",
      "2  2023  DELAWARE   46.0\n",
      "3  2023   GEORGIA   43.0\n",
      "4  2023  ILLINOIS   63.0\n",
      "\n",
      "Columns in economic_combined before merging:\n",
      "Index(['Year', 'employment_rural', 'personal_income_rural', 'poverty_levels'], dtype='object')\n",
      "\n",
      "First few rows of combined_df after merging:\n",
      "   Year  Value  employment_rural  personal_income_rural  poverty_levels\n",
      "0  2022   41.0         485311.16             46280529.1            13.6\n",
      "1  2022   41.0         485311.16             46280529.1             9.6\n",
      "2  2022   41.0         485311.16             46280529.1            12.7\n",
      "3  2022   41.0         485311.16             46280529.1            16.6\n",
      "4  2022   41.0         485311.16             46280529.1            11.2\n",
      "\n",
      "Checking crop_df columns for soybean_cash_receipts:\n",
      "Index(['Year', 'State', 'Value'], dtype='object')\n",
      "\n",
      "First few rows of crop_df (soybean_cash_receipts):\n",
      "   Year     State  Value\n",
      "0  2023   ALABAMA   43.0\n",
      "1  2023  ARKANSAS   54.0\n",
      "2  2023  DELAWARE   46.0\n",
      "3  2023   GEORGIA   43.0\n",
      "4  2023  ILLINOIS   63.0\n",
      "\n",
      "Columns in economic_combined before merging:\n",
      "Index(['Year', 'employment_rural', 'personal_income_rural', 'poverty_levels'], dtype='object')\n",
      "\n",
      "First few rows of combined_df after merging:\n",
      "   Year  Value  employment_rural  personal_income_rural  poverty_levels\n",
      "0  2022   41.0         485311.16             46280529.1            13.6\n",
      "1  2022   41.0         485311.16             46280529.1             9.6\n",
      "2  2022   41.0         485311.16             46280529.1            12.7\n",
      "3  2022   41.0         485311.16             46280529.1            16.6\n",
      "4  2022   41.0         485311.16             46280529.1            11.2\n",
      "\n",
      "Checking crop_df columns for soybean_price_received:\n",
      "Index(['Year', 'State', 'Value'], dtype='object')\n",
      "\n",
      "First few rows of crop_df (soybean_price_received):\n",
      "   Year     State  Value\n",
      "0  2023   ALABAMA   43.0\n",
      "1  2023  ARKANSAS   54.0\n",
      "2  2023  DELAWARE   46.0\n",
      "3  2023   GEORGIA   43.0\n",
      "4  2023  ILLINOIS   63.0\n",
      "\n",
      "Columns in economic_combined before merging:\n",
      "Index(['Year', 'employment_rural', 'personal_income_rural', 'poverty_levels'], dtype='object')\n",
      "\n",
      "First few rows of combined_df after merging:\n",
      "   Year  Value  employment_rural  personal_income_rural  poverty_levels\n",
      "0  2022   41.0         485311.16             46280529.1            13.6\n",
      "1  2022   41.0         485311.16             46280529.1             9.6\n",
      "2  2022   41.0         485311.16             46280529.1            12.7\n",
      "3  2022   41.0         485311.16             46280529.1            16.6\n",
      "4  2022   41.0         485311.16             46280529.1            11.2\n",
      "\n",
      "Checking crop_df columns for soybean_production_bushels:\n",
      "Index(['Year', 'State', 'Value'], dtype='object')\n",
      "\n",
      "First few rows of crop_df (soybean_production_bushels):\n",
      "   Year     State  Value\n",
      "0  2023   ALABAMA   43.0\n",
      "1  2023  ARKANSAS   54.0\n",
      "2  2023  DELAWARE   46.0\n",
      "3  2023   GEORGIA   43.0\n",
      "4  2023  ILLINOIS   63.0\n",
      "\n",
      "Columns in economic_combined before merging:\n",
      "Index(['Year', 'employment_rural', 'personal_income_rural', 'poverty_levels'], dtype='object')\n",
      "\n",
      "First few rows of combined_df after merging:\n",
      "   Year  Value  employment_rural  personal_income_rural  poverty_levels\n",
      "0  2022   41.0         485311.16             46280529.1            13.6\n",
      "1  2022   41.0         485311.16             46280529.1             9.6\n",
      "2  2022   41.0         485311.16             46280529.1            12.7\n",
      "3  2022   41.0         485311.16             46280529.1            16.6\n",
      "4  2022   41.0         485311.16             46280529.1            11.2\n",
      "\n",
      "Checking crop_df columns for soybean_production_dollars:\n",
      "Index(['Year', 'State', 'Value'], dtype='object')\n",
      "\n",
      "First few rows of crop_df (soybean_production_dollars):\n",
      "   Year     State  Value\n",
      "0  2023   ALABAMA   43.0\n",
      "1  2023  ARKANSAS   54.0\n",
      "2  2023  DELAWARE   46.0\n",
      "3  2023   GEORGIA   43.0\n",
      "4  2023  ILLINOIS   63.0\n",
      "\n",
      "Columns in economic_combined before merging:\n",
      "Index(['Year', 'employment_rural', 'personal_income_rural', 'poverty_levels'], dtype='object')\n",
      "\n",
      "First few rows of combined_df after merging:\n",
      "   Year  Value  employment_rural  personal_income_rural  poverty_levels\n",
      "0  2022   41.0         485311.16             46280529.1            13.6\n",
      "1  2022   41.0         485311.16             46280529.1             9.6\n",
      "2  2022   41.0         485311.16             46280529.1            12.7\n",
      "3  2022   41.0         485311.16             46280529.1            16.6\n",
      "4  2022   41.0         485311.16             46280529.1            11.2\n",
      "\n",
      "Checking crop_df columns for soybean_yield_bushels:\n",
      "Index(['Year', 'State', 'Value'], dtype='object')\n",
      "\n",
      "First few rows of crop_df (soybean_yield_bushels):\n",
      "   Year     State  Value\n",
      "0  2023   ALABAMA   43.0\n",
      "1  2023  ARKANSAS   54.0\n",
      "2  2023  DELAWARE   46.0\n",
      "3  2023   GEORGIA   43.0\n",
      "4  2023  ILLINOIS   63.0\n",
      "\n",
      "Columns in economic_combined before merging:\n",
      "Index(['Year', 'employment_rural', 'personal_income_rural', 'poverty_levels'], dtype='object')\n",
      "\n",
      "First few rows of combined_df after merging:\n",
      "   Year  Value  employment_rural  personal_income_rural  poverty_levels\n",
      "0  2022   41.0         485311.16             46280529.1            13.6\n",
      "1  2022   41.0         485311.16             46280529.1             9.6\n",
      "2  2022   41.0         485311.16             46280529.1            12.7\n",
      "3  2022   41.0         485311.16             46280529.1            16.6\n",
      "4  2022   41.0         485311.16             46280529.1            11.2\n"
     ]
    }
   ],
   "source": [
    "# Step 6: Run the correlation analysis for corn and soybean data\n",
    "corn_correlation_results = calculate_correlations(corn_data_columns)\n",
    "soybean_correlation_results = calculate_correlations(soybean_data_columns)"
   ]
  },
  {
   "cell_type": "code",
   "execution_count": 150,
   "id": "8368aa93-e373-427e-9960-c119461f3490",
   "metadata": {
    "scrolled": true
   },
   "outputs": [
    {
     "name": "stdout",
     "output_type": "stream",
     "text": [
      "Corn Data Correlation Results:\n",
      "                        corn_acres_planted  corn_cash_receipts  \\\n",
      "employment_rural                 0.256941            0.256941   \n",
      "personal_income_rural            0.417025            0.417025   \n",
      "poverty_levels                  -0.003166           -0.003166   \n",
      "\n",
      "                       corn_price_received  corn_production_bushels  \\\n",
      "employment_rural                  0.256941                 0.256941   \n",
      "personal_income_rural             0.417025                 0.417025   \n",
      "poverty_levels                   -0.003166                -0.003166   \n",
      "\n",
      "                       corn_production_dollars  corn_yield_bushels  \n",
      "employment_rural                      0.256941            0.256941  \n",
      "personal_income_rural                 0.417025            0.417025  \n",
      "poverty_levels                       -0.003166           -0.003166  \n",
      "Soybean Data Correlation Results:\n",
      "                        soybean_acres_planted  soybean_cash_receipts  \\\n",
      "employment_rural                    0.256941               0.256941   \n",
      "personal_income_rural               0.417025               0.417025   \n",
      "poverty_levels                     -0.003166              -0.003166   \n",
      "\n",
      "                       soybean_price_received  soybean_production_bushels  \\\n",
      "employment_rural                     0.256941                    0.256941   \n",
      "personal_income_rural                0.417025                    0.417025   \n",
      "poverty_levels                      -0.003166                   -0.003166   \n",
      "\n",
      "                       soybean_production_dollars  soybean_yield_bushels  \n",
      "employment_rural                         0.256941               0.256941  \n",
      "personal_income_rural                    0.417025               0.417025  \n",
      "poverty_levels                          -0.003166              -0.003166  \n"
     ]
    }
   ],
   "source": [
    "# Step 7: Display the results\n",
    "print(\"Corn Data Correlation Results:\\n\", corn_correlation_results)\n",
    "print(\"Soybean Data Correlation Results:\\n\", soybean_correlation_results)"
   ]
  },
  {
   "cell_type": "markdown",
   "id": "b004a9ab-a1a3-4364-8b9e-f890a451ce85",
   "metadata": {},
   "source": [
    "## Visualizations"
   ]
  },
  {
   "cell_type": "code",
   "execution_count": 152,
   "id": "299d3827-8ba9-4954-8989-0b82672d3ece",
   "metadata": {},
   "outputs": [],
   "source": [
    "# Function to plot correlation results\n",
    "def plot_correlation_results(correlation_df, title):\n",
    "    plt.figure(figsize=(10, 6))\n",
    "    sns.heatmap(correlation_df, annot=True, cmap=\"coolwarm\", cbar=True, vmin=-1, vmax=1)\n",
    "    plt.title(title)\n",
    "    plt.show()"
   ]
  },
  {
   "cell_type": "code",
   "execution_count": 153,
   "id": "a01584aa-efb5-4a88-957d-e902eda6f65e",
   "metadata": {
    "scrolled": true
   },
   "outputs": [
    {
     "data": {
      "image/png": "[encoded data removed]",
      "text/plain": [
       "<Figure size 1000x600 with 2 Axes>"
      ]
     },
     "metadata": {},
     "output_type": "display_data"
    }
   ],
   "source": [
    "# Plotting Corn Data Correlation Results\n",
    "plot_correlation_results(corn_correlation_results, \"Corn Data Correlation Results\")"
   ]
  },
  {
   "cell_type": "code",
   "execution_count": 154,
   "id": "93c5f127-94cc-4641-9816-e936b20c117c",
   "metadata": {
    "scrolled": true
   },
   "outputs": [
    {
     "data": {
      "image/png": "[encoded data removed]",
      "text/plain": [
       "<Figure size 1000x600 with 2 Axes>"
      ]
     },
     "metadata": {},
     "output_type": "display_data"
    }
   ],
   "source": [
    "# Plotting Soybean Data Correlation Results\n",
    "plot_correlation_results(soybean_correlation_results, \"Soybean Data Correlation Results\")"
   ]
  },
  {
   "cell_type": "markdown",
   "id": "8ba004fc-10e9-4183-ad9d-010351a636f1",
   "metadata": {},
   "source": [
    "---\n",
    "**Interpretation**\n",
    "\n",
    "On a national level:\n",
    "1. Corn Data Correlation Results:\n",
    "- Employment_rural: Displays a positive correlation with all corn-related variables (e.g., acres planted, cash receipts, production). This suggests that as rural employment increases, corn metrics such as acres planted and yield also increase.\n",
    "- Personal_income_rural: Similarly shows a strong positive correlation with the same variables. Higher personal income in rural areas correlates with greater corn productivity.\n",
    "- Poverty_levels: This has a near-zero or slightly negative correlation with corn variables, indicating that poverty levels have little to no impact on corn-related metrics.\n",
    "\n",
    "2. Soybean Data Correlation Results:\n",
    "- The pattern is very similar to corn. Both employment_rural and personal_income_rural have positive correlations with soybean metrics such as acres planted, yield, and production.\n",
    "- Poverty_levels again shows a near-zero or negative correlation with soybean-related variables, similar to the corn results.\n",
    "\n",
    "**Summary:**\n",
    "Rural employment and income are positively correlated with both corn and soybean production metrics. This suggests that economically active rural areas tend to produce more crops.\n",
    "Poverty levels do not seem to strongly influence crop production, which might suggest that other factors (e.g., technology, land availability) are more critical for agricultural productivity in these regions.\n",
    "\n",
    "---"
   ]
  },
  {
   "cell_type": "code",
   "execution_count": null,
   "id": "78dfa2dd-701f-44aa-a4b3-8389d90851d8",
   "metadata": {},
   "outputs": [],
   "source": []
  },
  {
   "cell_type": "code",
   "execution_count": null,
   "id": "66ecc778-5ff1-447f-b2e2-0b20a9fc0eea",
   "metadata": {},
   "outputs": [],
   "source": []
  }
 ],
 "metadata": {
  "kernelspec": {
   "display_name": "Python 3 (ipykernel)",
   "language": "python",
   "name": "python3"
  },
  "language_info": {
   "codemirror_mode": {
    "name": "ipython",
    "version": 3
   },
   "file_extension": ".py",
   "mimetype": "text/x-python",
   "name": "python",
   "nbconvert_exporter": "python",
   "pygments_lexer": "ipython3",
   "version": "3.12.4"
  }
 },
 "nbformat": 4,
 "nbformat_minor": 5
}
